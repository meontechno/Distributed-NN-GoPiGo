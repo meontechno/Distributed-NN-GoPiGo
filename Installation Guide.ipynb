{
 "cells": [
  {
   "cell_type": "markdown",
   "metadata": {},
   "source": [
    "# Design and Implementation of a Distributed Neural Network based RCNN Object Recognition and Collision Avoidance System for GoPiGo"
   ]
  },
  {
   "cell_type": "markdown",
   "metadata": {},
   "source": [
    "# Tools Required"
   ]
  },
  {
   "cell_type": "markdown",
   "metadata": {},
   "source": [
    "1. python 3.5.x or python 3.6.x\n",
    "( https://www.python.org/downloads/release/python-352/ )\n",
    "2. Jupyter Notebook (Optional) (https://jupyter.org/install )\n",
    "3. Nvidia graphic driver (If using GPU)\n",
    "4. Microsoft Visual Studio (2017) ( https://www.visualstudio.com/ )\n",
    "5. Nvidia CUDA Toolkit 9.0 (CUDA 9.1 is not supported by Tensorflow) ( https://developer.nvidia.com/cuda-90-download-archive <br>\n",
    "Add CUDA DLLs directory to PATH variable\n",
    "6. Nvidia cuDNN v7.0 for CUDA 9.0<br>\n",
    "Download link: https://developer.nvidia.com/cudnn<br>\n",
    "Add cuDNN DLLs directory to PATH variable"
   ]
  },
  {
   "cell_type": "code",
   "execution_count": null,
   "metadata": {},
   "outputs": [],
   "source": []
  }
 ],
 "metadata": {
  "kernelspec": {
   "display_name": "Python 3",
   "language": "python",
   "name": "python3"
  },
  "language_info": {
   "codemirror_mode": {
    "name": "ipython",
    "version": 3
   },
   "file_extension": ".py",
   "mimetype": "text/x-python",
   "name": "python",
   "nbconvert_exporter": "python",
   "pygments_lexer": "ipython3",
   "version": "3.5.2"
  }
 },
 "nbformat": 4,
 "nbformat_minor": 2
}
